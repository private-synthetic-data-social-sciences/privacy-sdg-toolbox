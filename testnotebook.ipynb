{
 "cells": [
  {
   "cell_type": "code",
   "execution_count": 11,
   "metadata": {},
   "outputs": [],
   "source": [
    "import tapas.datasets\n",
    "import tapas.generators\n",
    "import tapas.threat_models\n",
    "import tapas.attacks\n",
    "import tapas.report"
   ]
  },
  {
   "cell_type": "code",
   "execution_count": 12,
   "metadata": {},
   "outputs": [
    {
     "data": {
      "text/plain": [
       "({'name': 'Residence Type', 'type': 'finite', 'representation': ['H', 'C']},)"
      ]
     },
     "execution_count": 12,
     "metadata": {},
     "output_type": "execute_result"
    }
   ],
   "source": [
    "{\n",
    "    \"name\": \"Residence Type\",\n",
    "    \"type\": \"finite\",\n",
    "    \"representation\": [\n",
    "        \"H\",\n",
    "        \"C\"\n",
    "    ]\n",
    "},"
   ]
  },
  {
   "cell_type": "code",
   "execution_count": 13,
   "metadata": {},
   "outputs": [
    {
     "data": {
      "text/plain": [
       "'/home/flavio/repositories/projects/GANS/privacy-sdg-toolbox'"
      ]
     },
     "execution_count": 13,
     "metadata": {},
     "output_type": "execute_result"
    }
   ],
   "source": [
    "import os \n",
    "os.getcwd()"
   ]
  },
  {
   "cell_type": "code",
   "execution_count": 14,
   "metadata": {},
   "outputs": [
    {
     "name": "stderr",
     "output_type": "stream",
     "text": [
      "/home/flavio/repositories/projects/GANS/privacy-sdg-toolbox/tapas/datasets/dataset.py:37: DtypeWarning: Columns (17) have mixed types. Specify dtype option on import or set low_memory=False.\n",
      "  data = pd.read_csv(fp, header=validate_header(fp, cnames), dtype=dtypes, index_col=None, names=cnames)\n"
     ]
    }
   ],
   "source": [
    "data = tapas.datasets.TabularDataset.read(\"data/microdata-2011\")"
   ]
  },
  {
   "cell_type": "code",
   "execution_count": 15,
   "metadata": {},
   "outputs": [],
   "source": [
    "generator = tapas.generators.Raw()"
   ]
  },
  {
   "cell_type": "code",
   "execution_count": 16,
   "metadata": {},
   "outputs": [],
   "source": [
    "data_knowledge = tapas.threat_models.AuxiliaryDataKnowledge(\n",
    "      data,\n",
    "      auxiliary_split=0.5,\n",
    "      num_training_records=5000\n",
    ")"
   ]
  },
  {
   "cell_type": "code",
   "execution_count": 17,
   "metadata": {},
   "outputs": [],
   "source": [
    "sdg_knowledge = tapas.threat_models.BlackBoxKnowledge(\n",
    "    generator,\n",
    "    num_synthetic_records=5000,\n",
    ")\n"
   ]
  },
  {
   "cell_type": "code",
   "execution_count": 18,
   "metadata": {},
   "outputs": [],
   "source": [
    "threat_model = tapas.threat_models.TargetedMIA(\n",
    "   attacker_knowledge_data=data_knowledge,\n",
    "   target_record=data.get_records([0]),\n",
    "   attacker_knowledge_generator=sdg_knowledge,\n",
    "   generate_pairs=True,\n",
    "   replace_target=True\n",
    ")"
   ]
  },
  {
   "cell_type": "code",
   "execution_count": 19,
   "metadata": {},
   "outputs": [
    {
     "ename": "ValueError",
     "evalue": "nan is not in list",
     "output_type": "error",
     "traceback": [
      "\u001b[0;31m---------------------------------------------------------------------------\u001b[0m",
      "\u001b[0;31mValueError\u001b[0m                                Traceback (most recent call last)",
      "Cell \u001b[0;32mIn[19], line 3\u001b[0m\n\u001b[1;32m      1\u001b[0m attacker \u001b[39m=\u001b[39m tapas\u001b[39m.\u001b[39mattacks\u001b[39m.\u001b[39mGroundhogAttack()\n\u001b[0;32m----> 3\u001b[0m attacker\u001b[39m.\u001b[39;49mtrain(threat_model, num_samples\u001b[39m=\u001b[39;49m\u001b[39m1000\u001b[39;49m)\n",
      "File \u001b[0;32m~/repositories/projects/GANS/privacy-sdg-toolbox/tapas/attacks/shadow_modelling.py:87\u001b[0m, in \u001b[0;36mShadowModellingAttack.train\u001b[0;34m(self, threat_model, num_samples)\u001b[0m\n\u001b[1;32m     84\u001b[0m synthetic_datasets, labels \u001b[39m=\u001b[39m threat_model\u001b[39m.\u001b[39mgenerate_training_samples(num_samples)\n\u001b[1;32m     86\u001b[0m \u001b[39m# Fit the classifier to the data.\u001b[39;00m\n\u001b[0;32m---> 87\u001b[0m \u001b[39mself\u001b[39;49m\u001b[39m.\u001b[39;49mclassifier\u001b[39m.\u001b[39;49mfit(synthetic_datasets, labels)\n\u001b[1;32m     88\u001b[0m \u001b[39mself\u001b[39m\u001b[39m.\u001b[39mtrained \u001b[39m=\u001b[39m \u001b[39mTrue\u001b[39;00m\n",
      "File \u001b[0;32m~/repositories/projects/GANS/privacy-sdg-toolbox/tapas/attacks/set_classifiers.py:144\u001b[0m, in \u001b[0;36mFeatureBasedSetClassifier.fit\u001b[0;34m(self, datasets, labels)\u001b[0m\n\u001b[1;32m    143\u001b[0m \u001b[39mdef\u001b[39;00m \u001b[39mfit\u001b[39m(\u001b[39mself\u001b[39m, datasets: \u001b[39mlist\u001b[39m[Dataset], labels: \u001b[39mlist\u001b[39m[\u001b[39mint\u001b[39m]):\n\u001b[0;32m--> 144\u001b[0m     \u001b[39mself\u001b[39m\u001b[39m.\u001b[39mclassifier\u001b[39m.\u001b[39mfit(\u001b[39mself\u001b[39;49m\u001b[39m.\u001b[39;49mfeatures(datasets), labels)\n",
      "File \u001b[0;32m~/repositories/projects/GANS/privacy-sdg-toolbox/tapas/attacks/set_classifiers.py:85\u001b[0m, in \u001b[0;36mSetFeature.__call__\u001b[0;34m(self, *args, **kwargs)\u001b[0m\n\u001b[1;32m     84\u001b[0m \u001b[39mdef\u001b[39;00m \u001b[39m__call__\u001b[39m(\u001b[39mself\u001b[39m, \u001b[39m*\u001b[39margs, \u001b[39m*\u001b[39m\u001b[39m*\u001b[39mkwargs):\n\u001b[0;32m---> 85\u001b[0m     \u001b[39mreturn\u001b[39;00m \u001b[39mself\u001b[39;49m\u001b[39m.\u001b[39;49mextract(\u001b[39m*\u001b[39;49margs, \u001b[39m*\u001b[39;49m\u001b[39m*\u001b[39;49mkwargs)\n",
      "File \u001b[0;32m~/repositories/projects/GANS/privacy-sdg-toolbox/tapas/attacks/set_classifiers.py:108\u001b[0m, in \u001b[0;36mCombinedSetFeatures.extract\u001b[0;34m(self, dataset)\u001b[0m\n\u001b[1;32m    107\u001b[0m \u001b[39mdef\u001b[39;00m \u001b[39mextract\u001b[39m(\u001b[39mself\u001b[39m, dataset: Dataset) \u001b[39m-\u001b[39m\u001b[39m>\u001b[39m np\u001b[39m.\u001b[39marray:\n\u001b[0;32m--> 108\u001b[0m     \u001b[39mreturn\u001b[39;00m np\u001b[39m.\u001b[39mconcatenate([f\u001b[39m.\u001b[39mextract(dataset) \u001b[39mfor\u001b[39;00m f \u001b[39min\u001b[39;00m \u001b[39mself\u001b[39m\u001b[39m.\u001b[39mfeatures], axis\u001b[39m=\u001b[39m\u001b[39m1\u001b[39m)\n",
      "File \u001b[0;32m~/repositories/projects/GANS/privacy-sdg-toolbox/tapas/attacks/set_classifiers.py:108\u001b[0m, in \u001b[0;36m<listcomp>\u001b[0;34m(.0)\u001b[0m\n\u001b[1;32m    107\u001b[0m \u001b[39mdef\u001b[39;00m \u001b[39mextract\u001b[39m(\u001b[39mself\u001b[39m, dataset: Dataset) \u001b[39m-\u001b[39m\u001b[39m>\u001b[39m np\u001b[39m.\u001b[39marray:\n\u001b[0;32m--> 108\u001b[0m     \u001b[39mreturn\u001b[39;00m np\u001b[39m.\u001b[39mconcatenate([f\u001b[39m.\u001b[39;49mextract(dataset) \u001b[39mfor\u001b[39;00m f \u001b[39min\u001b[39;00m \u001b[39mself\u001b[39m\u001b[39m.\u001b[39mfeatures], axis\u001b[39m=\u001b[39m\u001b[39m1\u001b[39m)\n",
      "File \u001b[0;32m~/repositories/projects/GANS/privacy-sdg-toolbox/tapas/attacks/set_classifiers.py:108\u001b[0m, in \u001b[0;36mCombinedSetFeatures.extract\u001b[0;34m(self, dataset)\u001b[0m\n\u001b[1;32m    107\u001b[0m \u001b[39mdef\u001b[39;00m \u001b[39mextract\u001b[39m(\u001b[39mself\u001b[39m, dataset: Dataset) \u001b[39m-\u001b[39m\u001b[39m>\u001b[39m np\u001b[39m.\u001b[39marray:\n\u001b[0;32m--> 108\u001b[0m     \u001b[39mreturn\u001b[39;00m np\u001b[39m.\u001b[39mconcatenate([f\u001b[39m.\u001b[39mextract(dataset) \u001b[39mfor\u001b[39;00m f \u001b[39min\u001b[39;00m \u001b[39mself\u001b[39m\u001b[39m.\u001b[39mfeatures], axis\u001b[39m=\u001b[39m\u001b[39m1\u001b[39m)\n",
      "File \u001b[0;32m~/repositories/projects/GANS/privacy-sdg-toolbox/tapas/attacks/set_classifiers.py:108\u001b[0m, in \u001b[0;36m<listcomp>\u001b[0;34m(.0)\u001b[0m\n\u001b[1;32m    107\u001b[0m \u001b[39mdef\u001b[39;00m \u001b[39mextract\u001b[39m(\u001b[39mself\u001b[39m, dataset: Dataset) \u001b[39m-\u001b[39m\u001b[39m>\u001b[39m np\u001b[39m.\u001b[39marray:\n\u001b[0;32m--> 108\u001b[0m     \u001b[39mreturn\u001b[39;00m np\u001b[39m.\u001b[39mconcatenate([f\u001b[39m.\u001b[39;49mextract(dataset) \u001b[39mfor\u001b[39;00m f \u001b[39min\u001b[39;00m \u001b[39mself\u001b[39m\u001b[39m.\u001b[39mfeatures], axis\u001b[39m=\u001b[39m\u001b[39m1\u001b[39m)\n",
      "File \u001b[0;32m~/repositories/projects/GANS/privacy-sdg-toolbox/tapas/attacks/set_classifiers.py:174\u001b[0m, in \u001b[0;36mNaiveSetFeature.extract\u001b[0;34m(self, datasets)\u001b[0m\n\u001b[1;32m    173\u001b[0m \u001b[39mdef\u001b[39;00m \u001b[39mextract\u001b[39m(\u001b[39mself\u001b[39m, datasets: \u001b[39mlist\u001b[39m[TabularDataset]) \u001b[39m-\u001b[39m\u001b[39m>\u001b[39m np\u001b[39m.\u001b[39marray:\n\u001b[0;32m--> 174\u001b[0m     np_data \u001b[39m=\u001b[39m [dataset\u001b[39m.\u001b[39mas_numeric \u001b[39mfor\u001b[39;00m dataset \u001b[39min\u001b[39;00m datasets]\n\u001b[1;32m    175\u001b[0m     \u001b[39mreturn\u001b[39;00m np\u001b[39m.\u001b[39mstack(\n\u001b[1;32m    176\u001b[0m         [\n\u001b[1;32m    177\u001b[0m             np\u001b[39m.\u001b[39mconcatenate(\n\u001b[0;32m   (...)\u001b[0m\n\u001b[1;32m    185\u001b[0m         ]\n\u001b[1;32m    186\u001b[0m     )\n",
      "File \u001b[0;32m~/repositories/projects/GANS/privacy-sdg-toolbox/tapas/attacks/set_classifiers.py:174\u001b[0m, in \u001b[0;36m<listcomp>\u001b[0;34m(.0)\u001b[0m\n\u001b[1;32m    173\u001b[0m \u001b[39mdef\u001b[39;00m \u001b[39mextract\u001b[39m(\u001b[39mself\u001b[39m, datasets: \u001b[39mlist\u001b[39m[TabularDataset]) \u001b[39m-\u001b[39m\u001b[39m>\u001b[39m np\u001b[39m.\u001b[39marray:\n\u001b[0;32m--> 174\u001b[0m     np_data \u001b[39m=\u001b[39m [dataset\u001b[39m.\u001b[39;49mas_numeric \u001b[39mfor\u001b[39;00m dataset \u001b[39min\u001b[39;00m datasets]\n\u001b[1;32m    175\u001b[0m     \u001b[39mreturn\u001b[39;00m np\u001b[39m.\u001b[39mstack(\n\u001b[1;32m    176\u001b[0m         [\n\u001b[1;32m    177\u001b[0m             np\u001b[39m.\u001b[39mconcatenate(\n\u001b[0;32m   (...)\u001b[0m\n\u001b[1;32m    185\u001b[0m         ]\n\u001b[1;32m    186\u001b[0m     )\n",
      "File \u001b[0;32m~/repositories/projects/GANS/privacy-sdg-toolbox/tapas/datasets/dataset.py:558\u001b[0m, in \u001b[0;36mTabularDataset.as_numeric\u001b[0;34m(self)\u001b[0m\n\u001b[1;32m    542\u001b[0m \u001b[39m@property\u001b[39m\n\u001b[1;32m    543\u001b[0m \u001b[39mdef\u001b[39;00m \u001b[39mas_numeric\u001b[39m(\u001b[39mself\u001b[39m):\n\u001b[1;32m    544\u001b[0m     \u001b[39m\"\"\"\u001b[39;00m\n\u001b[1;32m    545\u001b[0m \u001b[39m    Encodes this dataset as a np.array, where numeric values are kept as is\u001b[39;00m\n\u001b[1;32m    546\u001b[0m \u001b[39m    and categorical values are 1-hot encoded. This is only computed once\u001b[39;00m\n\u001b[0;32m   (...)\u001b[0m\n\u001b[1;32m    556\u001b[0m \n\u001b[1;32m    557\u001b[0m \u001b[39m    \"\"\"\u001b[39;00m\n\u001b[0;32m--> 558\u001b[0m     \u001b[39mreturn\u001b[39;00m encode_data(\u001b[39mself\u001b[39;49m)\n",
      "File \u001b[0;32m~/repositories/projects/GANS/privacy-sdg-toolbox/tapas/datasets/utils.py:79\u001b[0m, in \u001b[0;36mencode_data\u001b[0;34m(dataset, infer_ranges)\u001b[0m\n\u001b[1;32m     76\u001b[0m \u001b[39melse\u001b[39;00m:\n\u001b[1;32m     77\u001b[0m     col_cats \u001b[39m=\u001b[39m d_repr\n\u001b[0;32m---> 79\u001b[0m col_data_onehot \u001b[39m=\u001b[39m one_hot(col_data, col_cats)\n\u001b[1;32m     80\u001b[0m encoded_data[:, cidx : cidx \u001b[39m+\u001b[39m \u001b[39mlen\u001b[39m(col_cats)] \u001b[39m=\u001b[39m col_data_onehot\n\u001b[1;32m     82\u001b[0m cidx \u001b[39m+\u001b[39m\u001b[39m=\u001b[39m \u001b[39mlen\u001b[39m(col_cats)\n",
      "File \u001b[0;32m~/repositories/projects/GANS/privacy-sdg-toolbox/tapas/datasets/utils.py:101\u001b[0m, in \u001b[0;36mone_hot\u001b[0;34m(col_data, categories)\u001b[0m\n\u001b[1;32m     99\u001b[0m \u001b[39mdef\u001b[39;00m \u001b[39mone_hot\u001b[39m(col_data, categories):\n\u001b[1;32m    100\u001b[0m     col_data_onehot \u001b[39m=\u001b[39m np\u001b[39m.\u001b[39mzeros((\u001b[39mlen\u001b[39m(col_data), \u001b[39mlen\u001b[39m(categories)))\n\u001b[0;32m--> 101\u001b[0m     cidx \u001b[39m=\u001b[39m [categories\u001b[39m.\u001b[39mindex(c) \u001b[39mfor\u001b[39;00m c \u001b[39min\u001b[39;00m col_data]\n\u001b[1;32m    102\u001b[0m     col_data_onehot[np\u001b[39m.\u001b[39marange(\u001b[39mlen\u001b[39m(col_data)), cidx] \u001b[39m=\u001b[39m \u001b[39m1\u001b[39m\n\u001b[1;32m    104\u001b[0m     \u001b[39mreturn\u001b[39;00m col_data_onehot\n",
      "File \u001b[0;32m~/repositories/projects/GANS/privacy-sdg-toolbox/tapas/datasets/utils.py:101\u001b[0m, in \u001b[0;36m<listcomp>\u001b[0;34m(.0)\u001b[0m\n\u001b[1;32m     99\u001b[0m \u001b[39mdef\u001b[39;00m \u001b[39mone_hot\u001b[39m(col_data, categories):\n\u001b[1;32m    100\u001b[0m     col_data_onehot \u001b[39m=\u001b[39m np\u001b[39m.\u001b[39mzeros((\u001b[39mlen\u001b[39m(col_data), \u001b[39mlen\u001b[39m(categories)))\n\u001b[0;32m--> 101\u001b[0m     cidx \u001b[39m=\u001b[39m [categories\u001b[39m.\u001b[39;49mindex(c) \u001b[39mfor\u001b[39;00m c \u001b[39min\u001b[39;00m col_data]\n\u001b[1;32m    102\u001b[0m     col_data_onehot[np\u001b[39m.\u001b[39marange(\u001b[39mlen\u001b[39m(col_data)), cidx] \u001b[39m=\u001b[39m \u001b[39m1\u001b[39m\n\u001b[1;32m    104\u001b[0m     \u001b[39mreturn\u001b[39;00m col_data_onehot\n",
      "\u001b[0;31mValueError\u001b[0m: nan is not in list"
     ]
    }
   ],
   "source": [
    "attacker = tapas.attacks.GroundhogAttack()\n",
    "\n",
    "attacker.train(threat_model, num_samples=1000)"
   ]
  },
  {
   "cell_type": "code",
   "execution_count": 23,
   "metadata": {},
   "outputs": [
    {
     "ename": "AttributeError",
     "evalue": "module 'tapas.attacks' has no attribute 'ShadowModellingAtack'",
     "output_type": "error",
     "traceback": [
      "\u001b[0;31m---------------------------------------------------------------------------\u001b[0m",
      "\u001b[0;31mAttributeError\u001b[0m                            Traceback (most recent call last)",
      "Cell \u001b[0;32mIn[23], line 3\u001b[0m\n\u001b[1;32m      1\u001b[0m \u001b[39mfrom\u001b[39;00m \u001b[39msklearn\u001b[39;00m\u001b[39m.\u001b[39;00m\u001b[39mensemble\u001b[39;00m \u001b[39mimport\u001b[39;00m RandomForestClassifier\n\u001b[0;32m----> 3\u001b[0m attacker \u001b[39m=\u001b[39m tapas\u001b[39m.\u001b[39;49mattacks\u001b[39m.\u001b[39;49mShadowModellingAtack(\n\u001b[1;32m      4\u001b[0m    RandomForestClassifier(\n\u001b[1;32m      5\u001b[0m       tapas\u001b[39m.\u001b[39mattacks\u001b[39m.\u001b[39mNaiveSetFeature() \u001b[39m+\u001b[39m tapas\u001b[39m.\u001b[39mattacks\u001b[39m.\u001b[39mHistSetFeature() \u001b[39m+\u001b[39m tapas\u001b[39m.\u001b[39mattacks\u001b[39m.\u001b[39mCorrSetFeature(),\n\u001b[1;32m      6\u001b[0m       RandomForestClassifier(n_estimators \u001b[39m=\u001b[39m \u001b[39m100\u001b[39m)\n\u001b[1;32m      7\u001b[0m    ),\n\u001b[1;32m      8\u001b[0m    label \u001b[39m=\u001b[39m \u001b[39m\"\u001b[39m\u001b[39mGroundhog\u001b[39m\u001b[39m\"\u001b[39m\n\u001b[1;32m      9\u001b[0m )\n",
      "\u001b[0;31mAttributeError\u001b[0m: module 'tapas.attacks' has no attribute 'ShadowModellingAtack'"
     ]
    }
   ],
   "source": [
    "from sklearn.ensemble import RandomForestClassifier\n",
    "\n",
    "attacker = tapas.attacks.ShadowModellingAtack(\n",
    "   FeatureBasedSetClassifier(\n",
    "      tapas.attacks.NaiveSetFeature() + tapas.attacks.HistSetFeature() + tapas.attacks.CorrSetFeature(),\n",
    "      RandomForestClassifier(n_estimators = 100)\n",
    "   ),\n",
    "   label = \"Groundhog\"\n",
    ")"
   ]
  }
 ],
 "metadata": {
  "kernelspec": {
   "display_name": ".venv",
   "language": "python",
   "name": "python3"
  },
  "language_info": {
   "codemirror_mode": {
    "name": "ipython",
    "version": 3
   },
   "file_extension": ".py",
   "mimetype": "text/x-python",
   "name": "python",
   "nbconvert_exporter": "python",
   "pygments_lexer": "ipython3",
   "version": "3.9.5"
  },
  "orig_nbformat": 4
 },
 "nbformat": 4,
 "nbformat_minor": 2
}
